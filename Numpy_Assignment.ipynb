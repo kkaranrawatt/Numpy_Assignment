{
 "cells": [
  {
   "cell_type": "code",
   "execution_count": 1,
   "id": "4e3a22e9",
   "metadata": {},
   "outputs": [],
   "source": [
    "# Question 1\n",
    "# What is a Python library? Why do we use Python libraries?\n",
    "# Examples of Python libraries\n",
    "import numpy as np\n",
    "import pandas as pd\n",
    "import matplotlib.pyplot as plt"
   ]
  },
  {
   "cell_type": "markdown",
   "id": "a29373d8",
   "metadata": {},
   "source": [
    "A Python library is a collection of pre-written code and functions that can be imported and used in your Python program. Libraries provide a set of tools and resources to perform specific tasks without having to write the code from scratch. These libraries are developed and shared by the Python community to promote code reuse and make development more efficient.\n",
    "\n",
    "There are various reasons why we use Python libraries:\n",
    "\n",
    "1.Code Reusability: Libraries contain pre-written code that can be reused in different projects, saving time and effort. This promotes modular and maintainable code.\n",
    "\n",
    "2.Functionality: Libraries provide additional functionality that may not be available in the core Python language. They extend the capabilities of Python and allow developers to perform a wide range of tasks without having to implement everything manually.\n",
    "\n",
    "3.Efficiency: Using well-established libraries can lead to more efficient and optimized code. Experienced developers have contributed to these libraries, ensuring they are well-tested and performant.\n",
    "\n",
    "4.Community Support: Popular libraries have a large community of developers who contribute to their improvement and provide support. This means you can benefit from the collective knowledge and experience of the community.\n",
    "\n",
    "5.Specialized Tasks: There are libraries designed for specific domains or tasks, such as data analysis, machine learning, web development, and more. These libraries often include tools and algorithms tailored to their respective fields.\n",
    "\n",
    "6.Interoperability: Python libraries often integrate seamlessly with other technologies, making it easier to use Python in conjunction with other programming languages or systems.\n",
    "\n",
    "7.Rapid Development: By leveraging existing libraries, developers can speed up the development process, focusing on higher-level logic rather than dealing with low-level details."
   ]
  },
  {
   "cell_type": "code",
   "execution_count": 2,
   "id": "384ea149",
   "metadata": {},
   "outputs": [
    {
     "name": "stdout",
     "output_type": "stream",
     "text": [
      "[1, 4, 9, 16, 25]\n",
      "[ 1  4  9 16 25]\n"
     ]
    }
   ],
   "source": [
    "# Question 2\n",
    "# What is the difference between Numpy array and List?\n",
    "# Using Lists\n",
    "my_list = [1, 2, 3, 4, 5]\n",
    "my_list_squared = [x**2 for x in my_list]\n",
    "print(my_list_squared)\n",
    "\n",
    "# Using NumPy arrays\n",
    "import numpy as np\n",
    "my_array = np.array([1, 2, 3, 4, 5])\n",
    "my_array_squared = my_array**2\n",
    "print(my_array_squared)"
   ]
  },
  {
   "cell_type": "markdown",
   "id": "dc49dd3b",
   "metadata": {},
   "source": [
    "While lists are more flexible and versatile, NumPy arrays are designed for numerical operations and offer better performance, memory efficiency, and a wide range of mathematical functions. The choice between them depends on the specific requirements of your task. \n",
    "\n",
    "NumPy arrays and Python lists are both used to store and manipulate collections of items, but there are several key differences between them:\n",
    "\n",
    "1.Data Type:\n",
    "\n",
    "1.1.List: Python lists can contain elements of different data types. You can have a mix of integers, floats, strings, and other types within a single list.\n",
    "\n",
    "1.2.NumPy Array: NumPy arrays are homogeneous, meaning all elements must be of the same data type. This allows for more efficient storage and operations on the data.\n",
    "\n",
    "2.Performance:\n",
    "\n",
    "2.1.List: Lists are generally less efficient in terms of performance compared to NumPy arrays, especially when dealing with large datasets or numerical computations.\n",
    "\n",
    "2.2.NumPy Array: NumPy arrays are implemented in C and are more compact in memory. They provide better performance for numerical operations due to their fixed data type and efficient memory layout.\n",
    "\n",
    "3.Size:\n",
    "\n",
    "3.1.List: Lists are more flexible in size, and you can easily append or remove elements.\n",
    "\n",
    "3.2.NumPy Array: NumPy arrays have a fixed size when created. Changing the size involves creating a new array, and therefore operations like appending or removing elements are less flexible.\n",
    "\n",
    "4.Functionality:\n",
    "\n",
    "4.1.List: Lists provide a variety of general-purpose methods and operations. However, for numerical operations, you may need to use loops, which can be less efficient for large datasets.\n",
    "\n",
    "4.2.NumPy Array: NumPy arrays come with a wide range of mathematical functions and operations that are optimized for performance. This makes them particularly suitable for numerical computations and scientific computing.\n",
    "\n",
    "5.Syntax:\n",
    "\n",
    "5.1.List: Lists are part of the core Python language and have a simple syntax. They are created using square brackets, e.g., my_list = [1, 2, 3].\n",
    "\n",
    "5.2.NumPy Array: NumPy arrays are created using the numpy.array() function, and the syntax is slightly different, e.g., my_array = numpy.array([1, 2, 3])."
   ]
  },
  {
   "cell_type": "code",
   "execution_count": 3,
   "id": "0ee8d18a",
   "metadata": {},
   "outputs": [
    {
     "name": "stdout",
     "output_type": "stream",
     "text": [
      "Shape: (3, 4)\n",
      "Size: 12\n",
      "Dimension: 2\n"
     ]
    }
   ],
   "source": [
    "# Question 3\n",
    "# 3. Find the shape, size and dimension of the following array?\n",
    "# [[1, 2, 3, 4]\n",
    "# [5, 6, 7, 8],\n",
    "# [9, 10, 11, 12]]\n",
    "\n",
    "import numpy as np\n",
    "\n",
    "arr = np.array([[1, 2, 3, 4], [5, 6, 7, 8], [9, 10, 11, 12]])\n",
    "\n",
    "shape = arr.shape\n",
    "size = arr.size\n",
    "dimension = arr.ndim\n",
    "\n",
    "print(\"Shape:\", shape)\n",
    "print(\"Size:\", size)\n",
    "print(\"Dimension:\", dimension)"
   ]
  },
  {
   "cell_type": "markdown",
   "id": "77e13e8f",
   "metadata": {},
   "source": [
    "This Python code creates a NumPy array and then prints its shape, size, and dimension. The array is a 2-dimensional array with three rows and four columns.\n",
    "\n",
    "Here are the step-by-step explanations:\n",
    "\n",
    "1.Import NumPy: The code begins by importing the NumPy library, which is commonly aliased as np.\n",
    "\n",
    "2.Create a NumPy Array: Using the np.array() function, a 2-dimensional NumPy array is created with three rows and four columns. The values are provided in the form of a nested list.\n",
    "\n",
    "3.Shape: The shape attribute of the NumPy array is then used to determine the dimensions of the array. In this case, the shape is (3, 4), indicating three rows and four columns.\n",
    "\n",
    "4.Size: The size attribute is employed to find the total number of elements in the array. In this case, there are 3 rows and 4 columns, so the size is 3 * 4 = 12.\n",
    "\n",
    "5.Dimension: The ndim attribute is used to find the number of dimensions of the array. For a 2-dimensional array, the ndim value is 2.\n",
    "\n",
    "6.Print Results: Finally, the code prints out the calculated values for shape, size, and dimension using the print() function. The results provide information about the structure and size of the created NumPy array."
   ]
  },
  {
   "cell_type": "code",
   "execution_count": 4,
   "id": "672416aa",
   "metadata": {},
   "outputs": [
    {
     "name": "stdout",
     "output_type": "stream",
     "text": [
      "[1 2 3 4]\n"
     ]
    }
   ],
   "source": [
    "# Question 4\n",
    "# 4. Write python code to access the first row of the following array?\n",
    "# [[1, 2, 3, 4]\n",
    "# [5, 6, 7, 8],\n",
    "# [9, 10, 11, 12]]\n",
    "\n",
    "import numpy as np\n",
    "\n",
    "arr = np.array([[1, 2, 3, 4], [5, 6, 7, 8], [9, 10, 11, 12]])\n",
    "\n",
    "first_row = arr[0, :]\n",
    "\n",
    "print(first_row)"
   ]
  },
  {
   "cell_type": "markdown",
   "id": "064fe805",
   "metadata": {},
   "source": [
    "This Python code aims to access the first row of a NumPy array. The array is a 2-dimensional array with three rows and four columns.\n",
    "\n",
    "Here are the step-by-step explanations:\n",
    "\n",
    "1.Import NumPy: The code starts by importing the NumPy library, which is commonly aliased as np.\n",
    "\n",
    "2.Create a NumPy Array: A 2-dimensional NumPy array is created using the np.array() function. The array has three rows and four columns, and the values are provided in the form of a nested list.\n",
    "\n",
    "3.Accessing Rows: To access a specific row of the array, square brackets notation is used. In this case, arr[0, :] is used to access the first row. The colon (:) is a slice notation, indicating that we want all elements along the second axis (columns).\n",
    "\n",
    "4.Result: The result of the row access operation is stored in the variable first_row. This variable now holds the values of the first row of the NumPy array.\n",
    "\n",
    "5.Print Result: The code prints the first_row variable using the print() function, displaying the values of the first row of the array."
   ]
  },
  {
   "cell_type": "code",
   "execution_count": 5,
   "id": "8d146444",
   "metadata": {},
   "outputs": [
    {
     "name": "stdout",
     "output_type": "stream",
     "text": [
      "12\n"
     ]
    }
   ],
   "source": [
    "# Question 5\n",
    "# 5. How do you access the element at the third row and fourth column from the given numpy array?\n",
    "# [[1, 2, 3, 4]\n",
    "# [5, 6, 7, 8],\n",
    "# [9, 10, 11, 12]]\n",
    "\n",
    "import numpy as np\n",
    "\n",
    "arr = np.array([[1, 2, 3, 4], [5, 6, 7, 8], [9, 10, 11, 12]])\n",
    "\n",
    "element = arr[2, 3]\n",
    "\n",
    "print(element)"
   ]
  },
  {
   "cell_type": "markdown",
   "id": "97c7eb86",
   "metadata": {},
   "source": [
    "This Python code aims to access the element located at the third row and fourth column of a given NumPy array. The array is a 2-dimensional array with three rows and four columns.\n",
    "\n",
    "Here are the step-by-step explanations:\n",
    "\n",
    "1.Import NumPy: The code begins by importing the NumPy library, typically aliased as np.\n",
    "\n",
    "2.Create a NumPy Array: Using the np.array() function, a 2-dimensional NumPy array is created. The array consists of three rows and four columns, with values provided in the form of a nested list.\n",
    "\n",
    "3.Accessing Elements: To access a specific element in the array, square bracket notation is used. In this case, arr[2, 3] is employed to access the element at the third row and fourth column.\n",
    "\n",
    "4.Indexing: In Python, indexing starts from 0. Therefore, to access the third row, index 2 is used, and to access the fourth column, index 3 is used.\n",
    "\n",
    "5.Result: The value of the element at the specified location is retrieved from the array and stored in the variable element.\n",
    "\n",
    "6.Print Result: Finally, the code prints the value stored in the variable element using the print() function, displaying the element located at the third row and fourth column of the array."
   ]
  },
  {
   "cell_type": "code",
   "execution_count": 6,
   "id": "0398e1f1",
   "metadata": {},
   "outputs": [
    {
     "name": "stdout",
     "output_type": "stream",
     "text": [
      "[[ 2  4]\n",
      " [ 6  8]\n",
      " [10 12]]\n"
     ]
    }
   ],
   "source": [
    "# Question 6\n",
    "# 6. Write code to extract all odd-indexed elements from the given numpy array?\n",
    "# [[1, 2, 3, 4]\n",
    "# [5, 6, 7, 8],\n",
    "# [9, 10, 11, 12]]\n",
    "\n",
    "import numpy as np\n",
    "\n",
    "arr = np.array([[1, 2, 3, 4], [5, 6, 7, 8], [9, 10, 11, 12]])\n",
    "\n",
    "odd_indexed_elements = arr[:, 1::2]\n",
    "\n",
    "print(odd_indexed_elements)"
   ]
  },
  {
   "cell_type": "markdown",
   "id": "55ad676e",
   "metadata": {},
   "source": [
    "This Python code aims to extract all odd-indexed elements from a given NumPy array. The array is a 2-dimensional array with three rows and four columns.\n",
    "\n",
    "Here are the step-by-step explanations:\n",
    "\n",
    "1.Import NumPy: The code starts by importing the NumPy library, typically aliased as np.\n",
    "\n",
    "2.Create a NumPy Array: Using the np.array() function, a 2-dimensional NumPy array is created. The array consists of three rows and four columns, with values provided in the form of a nested list.\n",
    "\n",
    "3.Extracting Odd-Indexed Elements: To extract odd-indexed elements, the colon (:) is used for the row index to include all rows. For the column index, 1::2 is employed. Here, 1 represents the starting index (second column), and 2 is the step size. This selects every second element starting from the second column, effectively capturing all odd-indexed columns.\n",
    "\n",
    "4.Result: The result of the extraction operation is stored in the variable odd_indexed_elements. This variable now holds the values of all odd-indexed elements from the array.\n",
    "\n",
    "5.Print Result: Finally, the code prints the odd_indexed_elements variable using the print() function, displaying the extracted elements."
   ]
  },
  {
   "cell_type": "code",
   "execution_count": 7,
   "id": "1109b9f9",
   "metadata": {},
   "outputs": [
    {
     "name": "stdout",
     "output_type": "stream",
     "text": [
      "[[0.2413283  0.7532022  0.35912867]\n",
      " [0.24866334 0.25399349 0.56991404]\n",
      " [0.36064449 0.03646373 0.99018375]]\n"
     ]
    }
   ],
   "source": [
    "# Question 7\n",
    "# 7. How can you generate a random 3x3 matrix with values between 0 and 1?\n",
    "import numpy as np\n",
    "\n",
    "random_matrix = np.random.rand(3, 3)\n",
    "\n",
    "print(random_matrix)"
   ]
  },
  {
   "cell_type": "markdown",
   "id": "9be7a6e8",
   "metadata": {},
   "source": [
    "This Python code generates a random 3x3 matrix with values between 0 and 1 using NumPy.\n",
    "\n",
    "Here are the step-by-step explanations:\n",
    "\n",
    "1.Import NumPy: The code begins by importing the NumPy library, typically aliased as np.\n",
    "\n",
    "2.Generate a Random Matrix: The np.random.rand() function is used to generate a random matrix. The parameters passed to this function define the shape of the matrix, in this case, (3, 3) indicates a 3x3 matrix. The rand() function generates random values from a uniform distribution in the range [0, 1).\n",
    "\n",
    "3.Random Values: The values in the generated matrix are random and follow a uniform distribution, meaning that each value is equally likely to be any number within the specified range [0, 1).\n",
    "\n",
    "4.Result: The resulting matrix is stored in the variable random_matrix. This variable now holds the 3x3 matrix with random values between 0 and 1.\n",
    "\n",
    "5.Print Result: Finally, the code prints the random_matrix variable using the print() function, displaying the randomly generated matrix."
   ]
  },
  {
   "cell_type": "code",
   "execution_count": 8,
   "id": "d7661d9f",
   "metadata": {},
   "outputs": [
    {
     "name": "stdout",
     "output_type": "stream",
     "text": [
      "[[0.16824405 0.42020629 0.8188254 ]\n",
      " [0.67543577 0.92694825 0.88515035]\n",
      " [0.42405236 0.70294786 0.18697717]]\n",
      "[[ 0.94980974 -1.05115249  0.15399706]\n",
      " [ 0.12783998  0.08034937  0.71807079]\n",
      " [-1.75369136  0.0341414   2.2481236 ]]\n"
     ]
    }
   ],
   "source": [
    "# Question 8\n",
    "# 8. Describe the difference between np.random.rand and np.random.randn?\n",
    "# np.random.rand generates random values from a uniform distribution over [0, 1)\n",
    "random_matrix_uniform = np.random.rand(3, 3)\n",
    "print(random_matrix_uniform)\n",
    "\n",
    "# np.random.randn generates random values from a standard normal distribution (mean=0, std=1)\n",
    "random_matrix_normal = np.random.randn(3, 3)\n",
    "print(random_matrix_normal)"
   ]
  },
  {
   "cell_type": "markdown",
   "id": "1c2c7778",
   "metadata": {},
   "source": [
    "This Python code demonstrates the difference between np.random.rand and np.random.randn functions in NumPy for generating random matrices. The key distinction lies in the type of distribution used: np.random.rand generates values from a uniform distribution, while np.random.randn generates values from a standard normal distribution.\n",
    "\n",
    "Here are the step-by-step explanations:\n",
    "\n",
    "1.Import NumPy: The code begins by importing the NumPy library, typically aliased as np.\n",
    "\n",
    "2.Generate Random Matrix with np.random.rand:\n",
    "\n",
    "2.1.The np.random.rand() function generates random values from a uniform distribution over the half-open interval [0, 1).\n",
    "\n",
    "2.2.The parameters (3, 3) passed to the function define the shape of the resulting matrix, which is a 3x3 matrix.\n",
    "\n",
    "2.3.The generated values are uniformly distributed, meaning each value is equally likely to be any number within the specified range [0, 1).\n",
    "\n",
    "3.Generate Random Matrix with np.random.randn:\n",
    "\n",
    "3.1.The np.random.randn() function generates random values from a standard normal distribution with a mean of 0 and a standard deviation of 1.\n",
    "\n",
    "3.2.Like rand(), the parameters (3, 3) define the shape of the resulting matrix, which is a 3x3 matrix.\n",
    "\n",
    "3.3.The generated values follow a normal distribution, resulting in more values near the mean (0) and decreasing probabilities as values move away from the mean.\n",
    "\n",
    "4.Uniform Distribution vs. Normal Distribution:\n",
    "\n",
    "4.1.np.random.rand produces values uniformly across the specified range [0, 1), making all values equally likely.\n",
    "\n",
    "4.2.np.random.randn produces values according to a normal distribution, where values close to the mean are more likely, and values farther from the mean are less likely.\n",
    "\n",
    "5.Result Printing: The code prints the matrices generated by np.random.rand and np.random.randn using the print() function, allowing visualization of the random values produced by each distribution."
   ]
  },
  {
   "cell_type": "code",
   "execution_count": 9,
   "id": "8a671ea5",
   "metadata": {},
   "outputs": [
    {
     "name": "stdout",
     "output_type": "stream",
     "text": [
      "[[[ 1  2  3  4]\n",
      "  [ 5  6  7  8]\n",
      "  [ 9 10 11 12]]]\n"
     ]
    }
   ],
   "source": [
    "# Question 9\n",
    "# 9. Write code to increase the dimension of the following array?\n",
    "# [[1, 2, 3, 4]\n",
    "# [5, 6, 7, 8],\n",
    "# [9, 10, 11, 12]]\n",
    "\n",
    "import numpy as np\n",
    "\n",
    "arr = np.array([[1, 2, 3, 4], [5, 6, 7, 8], [9, 10, 11, 12]])\n",
    "\n",
    "increased_dimension = np.expand_dims(arr, axis=0)\n",
    "\n",
    "print(increased_dimension)"
   ]
  },
  {
   "cell_type": "markdown",
   "id": "971b7d7f",
   "metadata": {},
   "source": [
    "This Python code aims to increase the dimension of a given NumPy array by adding a new axis.\n",
    "\n",
    "Here are the step-by-step explanations:\n",
    "\n",
    "1.Import NumPy: The code starts by importing the NumPy library, typically aliased as np.\n",
    "\n",
    "2.Create a NumPy Array: Using the np.array() function, a 2-dimensional NumPy array is created. The array consists of three rows and four columns, with values provided in the form of a nested list.\n",
    "\n",
    "3.Increase Dimension with np.expand_dims:\n",
    "\n",
    "3.1.The np.expand_dims() function is employed to increase the dimension of the array.\n",
    "\n",
    "3.2.The first parameter, arr, is the array to be modified, and the second parameter, axis=0, indicates the axis along which a new dimension will be added. In this case, a new axis is added at the beginning, effectively turning the 2-dimensional array into a 3-dimensional array.\n",
    "\n",
    "4.Resulting Array:\n",
    "The result of the operation is stored in the variable increased_dimension. This variable now holds the array with an increased dimension.\n",
    "\n",
    "5.Print Result:\n",
    "Finally, the code prints the increased_dimension variable using the print() function, displaying the array with the increased dimension."
   ]
  },
  {
   "cell_type": "code",
   "execution_count": 10,
   "id": "71a4e41f",
   "metadata": {},
   "outputs": [
    {
     "name": "stdout",
     "output_type": "stream",
     "text": [
      "[[ 1  5  9]\n",
      " [ 2  6 10]\n",
      " [ 3  7 11]\n",
      " [ 4  8 12]]\n"
     ]
    }
   ],
   "source": [
    "# Question 10\n",
    "# 10. How to transpose the following array in NumPy?\n",
    "# [[1, 2, 3, 4]\n",
    "# [5, 6, 7, 8],\n",
    "# [9, 10, 11, 12]]\n",
    "\n",
    "import numpy as np\n",
    "\n",
    "arr = np.array([[1, 2, 3, 4], [5, 6, 7, 8], [9, 10, 11, 12]])\n",
    "\n",
    "transposed_array = np.transpose(arr)\n",
    "\n",
    "print(transposed_array)"
   ]
  },
  {
   "cell_type": "markdown",
   "id": "67ca005a",
   "metadata": {},
   "source": [
    "The provided code aims to transpose a given NumPy array.\n",
    "\n",
    "Here are the step-by-step explanations:\n",
    "\n",
    "1.Import NumPy: The code begins by importing the NumPy library, typically aliased as np.\n",
    "\n",
    "2.Create a NumPy Array: Using the np.array() function, a 2-dimensional NumPy array is created. The array consists of three rows and four columns, with values provided in the form of a nested list.\n",
    "\n",
    "3.Transpose the Array with np.transpose:\n",
    "\n",
    "3.1.The np.transpose() function is employed to transpose the array.\n",
    "\n",
    "3.2.The array is passed as a parameter to this function. The np.transpose() function essentially switches the rows and columns of the array, transforming a row into a column and vice versa.\n",
    "\n",
    "4.Resulting Transposed Array:\n",
    "The result of the operation is stored in the variable transposed_array. This variable now holds the transposed version of the original array.\n",
    "\n",
    "5.Print Result:\n",
    "Finally, the code prints the transposed_array variable using the print() function, displaying the transposed array."
   ]
  },
  {
   "cell_type": "code",
   "execution_count": 11,
   "id": "f3713fc4",
   "metadata": {},
   "outputs": [
    {
     "name": "stdout",
     "output_type": "stream",
     "text": [
      "1. Index wise multiplication:\n",
      " [[  1   4   9  16]\n",
      " [ 25  36  49  64]\n",
      " [ 81 100 121 144]]\n",
      "\n",
      "2. Matrix multiplication:\n",
      " [[ 30  70 110]\n",
      " [ 70 174 278]\n",
      " [110 278 446]]\n",
      "\n",
      "3. Matrix addition:\n",
      " [[ 2  4  6  8]\n",
      " [10 12 14 16]\n",
      " [18 20 22 24]]\n",
      "\n",
      "4. Matrix subtraction:\n",
      " [[0 0 0 0]\n",
      " [0 0 0 0]\n",
      " [0 0 0 0]]\n",
      "\n",
      "5. Matrix division:\n",
      " [[1. 1. 1. 1.]\n",
      " [1. 1. 1. 1.]\n",
      " [1. 1. 1. 1.]]\n"
     ]
    }
   ],
   "source": [
    "# Question 11\n",
    "# 11. Consider the following matrix:\n",
    "# Matrix A2 [[1, 2, 3, 4] [5, 6, 7, 8],[9, 10, 11, 12]]\n",
    "# Matrix B2 [[1, 2, 3, 4] [5, 6, 7, 8],[9, 10, 11, 12]]\n",
    "# 11.1. Index wise multiplication\n",
    "# 11.2. Matrix multiplication\n",
    "# 11.3. Add both the matrix\n",
    "# 11.4. Subtract matrix B from A \n",
    "# 11.5. Divide Matrix B by A\n",
    "\n",
    "import numpy as np\n",
    "\n",
    "# Matrix A\n",
    "A = np.array([[1, 2, 3, 4], [5, 6, 7, 8], [9, 10, 11, 12]])\n",
    "\n",
    "# Matrix B\n",
    "B = np.array([[1, 2, 3, 4], [5, 6, 7, 8], [9, 10, 11, 12]])\n",
    "\n",
    "# 1. Index wise multiplication\n",
    "index_wise_multiplication = A * B\n",
    "\n",
    "# 2. Matrix multiplication\n",
    "matrix_multiplication = np.dot(A, B.T)\n",
    "\n",
    "# 3. Add both the matrix\n",
    "matrix_addition = A + B\n",
    "\n",
    "# 4. Subtract matrix B from A\n",
    "matrix_subtraction = A - B\n",
    "\n",
    "# 5. Divide Matrix B by A\n",
    "matrix_division = np.divide(B, A)\n",
    "\n",
    "print(\"1. Index wise multiplication:\\n\", index_wise_multiplication)\n",
    "print(\"\\n2. Matrix multiplication:\\n\", matrix_multiplication)\n",
    "print(\"\\n3. Matrix addition:\\n\", matrix_addition)\n",
    "print(\"\\n4. Matrix subtraction:\\n\", matrix_subtraction)\n",
    "print(\"\\n5. Matrix division:\\n\", matrix_division)"
   ]
  },
  {
   "cell_type": "markdown",
   "id": "96f4055a",
   "metadata": {},
   "source": [
    "this Python code demonstrates various matrix operations including index-wise multiplication, matrix multiplication, addition, subtraction, and division using NumPy.\n",
    "\n",
    "Here are the step-by-step explanations:\n",
    "\n",
    "1.Import NumPy: The code begins by importing the NumPy library, typically aliased as np.\n",
    "\n",
    "2.Create Matrices A and B:\n",
    "Two 3x4 matrices, A and B, are created using the np.array() function.\n",
    "\n",
    "3.Index-wise Multiplication:\n",
    "Element-wise (index-wise) multiplication is performed by using the * operator on the matrices A and B. This results in a new matrix where each element is the product of the corresponding elements in A and B.\n",
    "\n",
    "4.Matrix Multiplication:\n",
    "Matrix multiplication is performed using the np.dot() function. The transpose (B.T) of matrix B is used to match the dimensions for multiplication. The result is a new matrix obtained by multiplying A by the transpose of B.\n",
    "\n",
    "5.Matrix Addition:\n",
    "Matrix addition is performed using the + operator on matrices A and B. This results in a new matrix where each element is the sum of the corresponding elements in A and B.\n",
    "\n",
    "6.Matrix Subtraction:\n",
    "Matrix subtraction is performed using the - operator on matrices A and B. This results in a new matrix where each element is the difference of the corresponding elements in A and B.\n",
    "\n",
    "7.Matrix Division:\n",
    "Matrix division is performed using the np.divide() function on matrices B and A. This results in a new matrix where each element is the quotient of the corresponding elements in B and A.\n",
    "\n",
    "8.Print Results:\n",
    "The code prints the results of each operation, displaying the matrices obtained from index-wise multiplication, matrix multiplication, addition, subtraction, and division."
   ]
  },
  {
   "cell_type": "code",
   "execution_count": 12,
   "id": "7ed69e84",
   "metadata": {},
   "outputs": [
    {
     "name": "stdout",
     "output_type": "stream",
     "text": [
      "[16777216 33554432 50331648 67108864]\n"
     ]
    }
   ],
   "source": [
    "# Question 12\n",
    "# 12. Which function in Numpy can be used to swap the byte order of an array?\n",
    "import numpy as np\n",
    "\n",
    "arr = np.array([1, 2, 3, 4], dtype=np.int32)\n",
    "\n",
    "swapped_arr = arr.byteswap()\n",
    "\n",
    "print(swapped_arr)"
   ]
  },
  {
   "cell_type": "markdown",
   "id": "d7d6f1d7",
   "metadata": {},
   "source": [
    "This Python code utilizes the byteswap() function in NumPy to swap the byte order of the elements in an array.\n",
    "\n",
    "Here are the step-by-step explanations:\n",
    "\n",
    "1.Import NumPy: The code begins by importing the NumPy library, typically aliased as np.\n",
    "\n",
    "2.Create an Array with a Specific Data Type:\n",
    "A NumPy array named arr is created with elements [1, 2, 3, 4] and a specified data type np.int32 (32-bit integer).\n",
    "\n",
    "3.Swap Byte Order with byteswap():\n",
    "\n",
    "3.1.The arr.byteswap() function is used to swap the byte order of the elements in the array.\n",
    "\n",
    "3.2.This function works in-place, meaning it modifies the original array rather than creating a new one.\n",
    "\n",
    "4.Resulting Array:\n",
    "The result of the byte-swap operation is stored in the variable swapped_arr. This variable now holds the array with the byte order of its elements swapped.\n",
    "\n",
    "5.Print Result:\n",
    "Finally, the code prints the swapped_arr variable using the print() function, displaying the array with the swapped byte order."
   ]
  },
  {
   "cell_type": "code",
   "execution_count": 13,
   "id": "6c18079b",
   "metadata": {},
   "outputs": [
    {
     "name": "stdout",
     "output_type": "stream",
     "text": [
      "[[-2.   1. ]\n",
      " [ 1.5 -0.5]]\n"
     ]
    }
   ],
   "source": [
    "# Question 13\n",
    "# 13. What is the significance of the np.linalg.inv function?\n",
    "import numpy as np\n",
    "\n",
    "# Example code for np.linalg.inv\n",
    "A = np.array([[1, 2], [3, 4]])\n",
    "\n",
    "# Calculating the inverse of matrix A\n",
    "A_inv = np.linalg.inv(A)\n",
    "\n",
    "print(A_inv)"
   ]
  },
  {
   "cell_type": "markdown",
   "id": "42a057a9",
   "metadata": {},
   "source": [
    "The np.linalg.inv function in NumPy is used to compute the inverse of a square matrix.\n",
    "\n",
    "Here are the step-by-step explanations:\n",
    "\n",
    "1.Import NumPy: Begin by importing the NumPy library, typically aliased as np.\n",
    "\n",
    "2.Create a Square Matrix: To use np.linalg.inv, you need to have a square matrix. A square matrix is a matrix where the number of rows is equal to the number of columns.\n",
    "\n",
    "3.Check for Matrix Invertibility: Ensure that the matrix is invertible or non-singular. A matrix is invertible if its determinant is non-zero. If the determinant is zero, the matrix is singular, and its inverse does not exist.\n",
    "\n",
    "4.Compute the Inverse with np.linalg.inv: The np.linalg.inv function takes the square matrix as an argument and computes its inverse. The resulting matrix is such that when it is multiplied by the original matrix, the identity matrix is obtained.\n",
    "\n",
    "5.Use Case - Solving Linear Equations: One significant application of matrix inversion is in solving systems of linear equations. If you have a system represented by the matrix equation Ax = B, where A is the coefficient matrix, x is the column vector of variables, and B is the column vector on the right-hand side, you can find the solution by calculating the inverse of A and multiplying it by B, i.e., x = A^(-1) * B.\n",
    "\n",
    "6.Considerations and Caution: While matrix inversion is a powerful tool, it can be computationally expensive and numerically unstable for ill-conditioned matrices. In many cases, alternative methods like solving linear equations directly using np.linalg.solve are preferred over matrix inversion."
   ]
  },
  {
   "cell_type": "code",
   "execution_count": 14,
   "id": "2d3badc4",
   "metadata": {},
   "outputs": [
    {
     "name": "stdout",
     "output_type": "stream",
     "text": [
      "[[1 2 3]\n",
      " [4 5 6]]\n"
     ]
    }
   ],
   "source": [
    "# Question 14\n",
    "# 14. What does the np.reshape function do, and how is it used?\n",
    "import numpy as np\n",
    "\n",
    "# Example code for np.reshape\n",
    "arr = np.array([1, 2, 3, 4, 5, 6])\n",
    "\n",
    "# Reshaping the array to a 2x3 matrix\n",
    "reshaped_arr = np.reshape(arr, (2, 3))\n",
    "\n",
    "print(reshaped_arr)"
   ]
  },
  {
   "cell_type": "markdown",
   "id": "37a3a8ff",
   "metadata": {},
   "source": [
    "The np.reshape function in NumPy is used to change the shape of an array without changing its data. It allows you to modify the dimensions (number of rows and columns) of the array.\n",
    "\n",
    "Here are the step-by-step explanations:\n",
    "\n",
    "1.Import NumPy: Begin by importing the NumPy library, typically aliased as np.\n",
    "\n",
    "2.Create an Array: You should have a NumPy array that you want to reshape. This array can be one-dimensional or multi-dimensional.\n",
    "\n",
    "3.Specify the New Shape: Decide on the new shape (dimensions) that you want for the array. The total number of elements in the array must remain the same after reshaping.\n",
    "\n",
    "4.Use np.reshape: The np.reshape function is then applied to the array, with the desired new shape specified as an argument. This function returns a new array with the modified shape.\n",
    "\n",
    "5.Reshape Rules: The reshaping is done in a row-major order, meaning elements are read and placed into the new shape row by row. The total number of elements in the original array must be equal to the total number of elements in the new shape.\n",
    "\n",
    "6.Flattening and Raveling: If the new shape is specified as a single integer, the array is reshaped into a one-dimensional array. Alternatively, you can use np.ravel for flattening or np.flatten for creating a copy of the array and then reshaping."
   ]
  },
  {
   "cell_type": "code",
   "execution_count": 15,
   "id": "9e01d0c5",
   "metadata": {},
   "outputs": [
    {
     "name": "stdout",
     "output_type": "stream",
     "text": [
      "[[11 22 33]\n",
      " [14 25 36]]\n"
     ]
    }
   ],
   "source": [
    "# Question 15\n",
    "# 15. What is broadcasting in Numpy?\n",
    "import numpy as np\n",
    "\n",
    "# Example code for broadcasting\n",
    "A = np.array([[1, 2, 3], [4, 5, 6]])\n",
    "B = np.array([10, 20, 30])\n",
    "\n",
    "# Broadcasting - Adding a 1D array to a 2D array\n",
    "result = A + B\n",
    "\n",
    "print(result)"
   ]
  },
  {
   "cell_type": "markdown",
   "id": "b92e2f08",
   "metadata": {},
   "source": [
    "Broadcasting in NumPy is a mechanism that allows for the performing of element-wise operations on arrays of different shapes and sizes without the need for explicit array expansion or duplication. Broadcasting simplifies operations and enhances code readability.\n",
    "\n",
    "Here are the step-by-step explanations:\n",
    "\n",
    "1.Understand Broadcasting Concept: Broadcasting extends the capabilities of element-wise operations to arrays with different shapes, making them compatible for operations like addition, subtraction, multiplication, and division.\n",
    "\n",
    "2.Dimensions Compatibility: Broadcasting operates on arrays with compatible dimensions. Two dimensions are considered compatible if they are equal or one of them is 1. Broadcasting then automatically replicates the smaller dimension to match the larger one.\n",
    "\n",
    "3.Identify Dimensions: When operating on arrays, identify the dimensions of each array. Broadcasting starts from the trailing dimensions, ensuring that the dimensions are either equal or one of them is 1.\n",
    "\n",
    "4.Replication of Smaller Dimensions: If the dimensions are not equal, the array with the smaller dimension is virtually replicated along that dimension to match the larger dimension.\n",
    "\n",
    "5.Perform Element-wise Operation: After the dimensions are aligned through broadcasting, element-wise operations (e.g., addition, subtraction) are performed as if the arrays were of the same shape.\n",
    "\n",
    "6.Resulting Array: The result is a new array with a shape that is the maximum size along each dimension of the input arrays."
   ]
  },
  {
   "cell_type": "code",
   "execution_count": null,
   "id": "28a856d5",
   "metadata": {},
   "outputs": [],
   "source": []
  }
 ],
 "metadata": {
  "kernelspec": {
   "display_name": "Python 3 (ipykernel)",
   "language": "python",
   "name": "python3"
  },
  "language_info": {
   "codemirror_mode": {
    "name": "ipython",
    "version": 3
   },
   "file_extension": ".py",
   "mimetype": "text/x-python",
   "name": "python",
   "nbconvert_exporter": "python",
   "pygments_lexer": "ipython3",
   "version": "3.11.4"
  }
 },
 "nbformat": 4,
 "nbformat_minor": 5
}
